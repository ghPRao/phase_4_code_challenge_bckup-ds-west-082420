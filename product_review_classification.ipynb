{
 "cells": [
  {
   "cell_type": "markdown",
   "metadata": {},
   "source": [
    "# Product Review Classification\n",
    "\n",
    "## Business Understanding\n",
    "Our company wants a tool that will automatically classify product reviews as _positive_ or _negative_ reviews, based on the features of the review.  This will help our Product team to perform more sophisticated analyses in the future to help ensure customer satisfaction.\n",
    "\n",
    "## Data Understanding\n",
    "We have a labeled collection of 20,000 product reviews, with an equal split of positive and negative reviews. The dataset contains the following features:\n",
    "\n",
    " - `ProductId` Unique identifier for the product\n",
    " - `UserId` Unqiue identifier for the user\n",
    " - `ProfileName` Profile name of the user\n",
    " - `HelpfulnessNumerator` Number of users who found the review helpful\n",
    " - `HelpfulnessDenominator` Number of users who indicated whether they found the review helpful or not\n",
    " - `Time` Timestamp for the review\n",
    " - `Summary` Brief summary of the review\n",
    " - `Text` Text of the review\n",
    " - `PositiveReview` 1 if this was labeled as a positive review, 0 if it was labeled as a negative review"
   ]
  },
  {
   "cell_type": "code",
   "execution_count": 8,
   "metadata": {},
   "outputs": [],
   "source": [
    "import pandas as pd\n",
    "import numpy as np\n",
    "from sklearn.model_selection import train_test_split\n",
    "from sklearn.feature_extraction.text import TfidfVectorizer\n",
    "from sklearn.preprocessing import OneHotEncoder, FunctionTransformer\n",
    "from sklearn.compose import ColumnTransformer\n",
    "from sklearn.pipeline import Pipeline\n",
    "from sklearn.ensemble import RandomForestClassifier\n",
    "from sklearn.metrics import confusion_matrix\n",
    "from sklearn.preprocessing import StandardScaler"
   ]
  },
  {
   "cell_type": "code",
   "execution_count": 2,
   "metadata": {},
   "outputs": [
    {
     "data": {
      "text/html": [
       "<div>\n",
       "<style scoped>\n",
       "    .dataframe tbody tr th:only-of-type {\n",
       "        vertical-align: middle;\n",
       "    }\n",
       "\n",
       "    .dataframe tbody tr th {\n",
       "        vertical-align: top;\n",
       "    }\n",
       "\n",
       "    .dataframe thead th {\n",
       "        text-align: right;\n",
       "    }\n",
       "</style>\n",
       "<table border=\"1\" class=\"dataframe\">\n",
       "  <thead>\n",
       "    <tr style=\"text-align: right;\">\n",
       "      <th></th>\n",
       "      <th>ProductId</th>\n",
       "      <th>UserId</th>\n",
       "      <th>ProfileName</th>\n",
       "      <th>HelpfulnessNumerator</th>\n",
       "      <th>HelpfulnessDenominator</th>\n",
       "      <th>Time</th>\n",
       "      <th>Summary</th>\n",
       "      <th>Text</th>\n",
       "      <th>PositiveReview</th>\n",
       "    </tr>\n",
       "  </thead>\n",
       "  <tbody>\n",
       "    <tr>\n",
       "      <th>0</th>\n",
       "      <td>B002QWHJOU</td>\n",
       "      <td>A37565LZHTG1VH</td>\n",
       "      <td>C. Maltese</td>\n",
       "      <td>1</td>\n",
       "      <td>1</td>\n",
       "      <td>1305331200</td>\n",
       "      <td>Awesome!</td>\n",
       "      <td>This is a great product. My 2 year old Golden ...</td>\n",
       "      <td>1</td>\n",
       "    </tr>\n",
       "    <tr>\n",
       "      <th>1</th>\n",
       "      <td>B000ESLJ6C</td>\n",
       "      <td>AMUAWXDJHE4D2</td>\n",
       "      <td>angieseashore</td>\n",
       "      <td>1</td>\n",
       "      <td>1</td>\n",
       "      <td>1320710400</td>\n",
       "      <td>Was there a recipe change?</td>\n",
       "      <td>I have been drinking Pero ever since I was a l...</td>\n",
       "      <td>0</td>\n",
       "    </tr>\n",
       "    <tr>\n",
       "      <th>2</th>\n",
       "      <td>B004IJJQK4</td>\n",
       "      <td>AMHHNAFJ9L958</td>\n",
       "      <td>A M</td>\n",
       "      <td>0</td>\n",
       "      <td>1</td>\n",
       "      <td>1321747200</td>\n",
       "      <td>These taste so bland.</td>\n",
       "      <td>Look, each pack contains two servings of 120 c...</td>\n",
       "      <td>0</td>\n",
       "    </tr>\n",
       "  </tbody>\n",
       "</table>\n",
       "</div>"
      ],
      "text/plain": [
       "    ProductId          UserId    ProfileName  HelpfulnessNumerator  \\\n",
       "0  B002QWHJOU  A37565LZHTG1VH     C. Maltese                     1   \n",
       "1  B000ESLJ6C   AMUAWXDJHE4D2  angieseashore                     1   \n",
       "2  B004IJJQK4   AMHHNAFJ9L958            A M                     0   \n",
       "\n",
       "   HelpfulnessDenominator        Time                     Summary  \\\n",
       "0                       1  1305331200                    Awesome!   \n",
       "1                       1  1320710400  Was there a recipe change?   \n",
       "2                       1  1321747200       These taste so bland.   \n",
       "\n",
       "                                                Text  PositiveReview  \n",
       "0  This is a great product. My 2 year old Golden ...               1  \n",
       "1  I have been drinking Pero ever since I was a l...               0  \n",
       "2  Look, each pack contains two servings of 120 c...               0  "
      ]
     },
     "execution_count": 2,
     "metadata": {},
     "output_type": "execute_result"
    }
   ],
   "source": [
    "df = pd.read_csv(\"reviews.csv\")\n",
    "df.head(3)"
   ]
  },
  {
   "cell_type": "markdown",
   "metadata": {},
   "source": [
    "The data has already been cleaned, so there are no missing values"
   ]
  },
  {
   "cell_type": "code",
   "execution_count": 3,
   "metadata": {},
   "outputs": [
    {
     "data": {
      "text/plain": [
       "ProductId                 0\n",
       "UserId                    0\n",
       "ProfileName               0\n",
       "HelpfulnessNumerator      0\n",
       "HelpfulnessDenominator    0\n",
       "Time                      0\n",
       "Summary                   0\n",
       "Text                      0\n",
       "PositiveReview            0\n",
       "dtype: int64"
      ]
     },
     "execution_count": 3,
     "metadata": {},
     "output_type": "execute_result"
    }
   ],
   "source": [
    "df.isna().sum()"
   ]
  },
  {
   "cell_type": "markdown",
   "metadata": {},
   "source": [
    "`PositiveReview` is the target, and all other columns are features"
   ]
  },
  {
   "cell_type": "code",
   "execution_count": 4,
   "metadata": {},
   "outputs": [],
   "source": [
    "X = df.drop(\"PositiveReview\", axis=1)\n",
    "y = df[\"PositiveReview\"]"
   ]
  },
  {
   "cell_type": "code",
   "execution_count": null,
   "metadata": {},
   "outputs": [],
   "source": []
  },
  {
   "cell_type": "code",
   "execution_count": null,
   "metadata": {},
   "outputs": [],
   "source": []
  },
  {
   "cell_type": "markdown",
   "metadata": {},
   "source": [
    "## Data Preparation\n",
    "\n",
    "First, split into train and test sets"
   ]
  },
  {
   "cell_type": "code",
   "execution_count": 5,
   "metadata": {},
   "outputs": [
    {
     "data": {
      "text/plain": [
       "(15000, 8)"
      ]
     },
     "execution_count": 5,
     "metadata": {},
     "output_type": "execute_result"
    }
   ],
   "source": [
    "X_train, X_test, y_train, y_test = train_test_split(X, y, random_state=42)\n",
    "X_train.shape"
   ]
  },
  {
   "cell_type": "markdown",
   "metadata": {},
   "source": [
    "Second, prepare for modeling. The following `Pipeline` prepares all data for modeling.  It one-hot encodes the `ProductId`, applies a tf-idf vectorizer to the `Summary` and `Text`, keeps the numeric columns as-is, and drops all other columns.\n",
    "\n",
    "The following code may take up to 1 minute to run."
   ]
  },
  {
   "cell_type": "code",
   "execution_count": 14,
   "metadata": {},
   "outputs": [
    {
     "data": {
      "text/plain": [
       "(15000, 11275)"
      ]
     },
     "execution_count": 14,
     "metadata": {},
     "output_type": "execute_result"
    }
   ],
   "source": [
    "def drop_irrelevant_columns(X):\n",
    "    return X.drop([\"UserId\", \"ProfileName\"], axis=1)\n",
    "\n",
    "pipeline = Pipeline(steps=[\n",
    "    (\"drop_columns\", FunctionTransformer(drop_irrelevant_columns)),\n",
    "    (\"transform_text_columns\", ColumnTransformer(transformers=[\n",
    "        (\"ohe\", OneHotEncoder(categories=\"auto\", handle_unknown=\"ignore\", sparse=False), [\"ProductId\"]),\n",
    "        (\"summary-tf-idf\", TfidfVectorizer(max_features=1000), \"Summary\"),\n",
    "        (\"text-tf-idf\", TfidfVectorizer(max_features=1000), \"Text\")\n",
    "    ], remainder=\"passthrough\")), \n",
    "])\n",
    "\n",
    "X_train_transformed = pipeline.fit_transform(X_train)\n",
    "X_test_transformed = pipeline.transform(X_test)\n",
    "\n",
    "X_train_transformed.shape"
   ]
  },
  {
   "cell_type": "markdown",
   "metadata": {},
   "source": [
    "## Modeling\n",
    "\n",
    "Fit a `RandomForestClassifier` with the best hyperparameters.  The following code may take up to 1 minute to run."
   ]
  },
  {
   "cell_type": "code",
   "execution_count": 7,
   "metadata": {},
   "outputs": [
    {
     "data": {
      "text/plain": [
       "RandomForestClassifier(bootstrap=True, ccp_alpha=0.0, class_weight=None,\n",
       "                       criterion='gini', max_depth=30, max_features='auto',\n",
       "                       max_leaf_nodes=None, max_samples=None,\n",
       "                       min_impurity_decrease=0.0, min_impurity_split=None,\n",
       "                       min_samples_leaf=1, min_samples_split=15,\n",
       "                       min_weight_fraction_leaf=0.0, n_estimators=100,\n",
       "                       n_jobs=None, oob_score=False, random_state=42, verbose=0,\n",
       "                       warm_start=False)"
      ]
     },
     "execution_count": 7,
     "metadata": {},
     "output_type": "execute_result"
    }
   ],
   "source": [
    "rfc = RandomForestClassifier(\n",
    "    random_state=42,\n",
    "    n_estimators=100,\n",
    "    max_depth=30,\n",
    "    min_samples_split=15,\n",
    "    min_samples_leaf=1\n",
    ")\n",
    "rfc.fit(X_train_transformed, y_train)"
   ]
  },
  {
   "cell_type": "markdown",
   "metadata": {},
   "source": [
    "## Model Evaluation\n",
    "\n",
    "We are using _accuracy_ as our metric, which is the default metric in Scikit-Learn, so it is possible to just use the built-in `.score` method"
   ]
  },
  {
   "cell_type": "code",
   "execution_count": 8,
   "metadata": {},
   "outputs": [
    {
     "name": "stdout",
     "output_type": "stream",
     "text": [
      "Train accuracy: 0.9826666666666667\n",
      "Test accuracy: 0.913\n"
     ]
    }
   ],
   "source": [
    "print(\"Train accuracy:\", rfc.score(X_train_transformed, y_train))\n",
    "print(\"Test accuracy:\", rfc.score(X_test_transformed, y_test))"
   ]
  },
  {
   "cell_type": "code",
   "execution_count": 9,
   "metadata": {},
   "outputs": [
    {
     "name": "stdout",
     "output_type": "stream",
     "text": [
      "Train confusion matrix:\n",
      "[[7312  177]\n",
      " [  83 7428]]\n",
      "Test confusion matrix:\n",
      "[[2293  218]\n",
      " [ 217 2272]]\n"
     ]
    }
   ],
   "source": [
    "print(\"Train confusion matrix:\")\n",
    "print(confusion_matrix(y_train, rfc.predict(X_train_transformed)))\n",
    "print(\"Test confusion matrix:\")\n",
    "print(confusion_matrix(y_test, rfc.predict(X_test_transformed)))"
   ]
  },
  {
   "cell_type": "code",
   "execution_count": 19,
   "metadata": {},
   "outputs": [
    {
     "data": {
      "text/plain": [
       "(15000, 11275)"
      ]
     },
     "execution_count": 19,
     "metadata": {},
     "output_type": "execute_result"
    }
   ],
   "source": [
    "# Create a new pipeline adding a StandardScaler() as TensorFlow likes it better\n",
    "pipeline = Pipeline(steps=[\n",
    "    (\"drop_columns\", FunctionTransformer(drop_irrelevant_columns)),\n",
    "    (\"transform_text_columns\", ColumnTransformer(transformers=[\n",
    "        (\"ohe\", OneHotEncoder(categories=\"auto\", handle_unknown=\"ignore\", sparse=False), [\"ProductId\"]),\n",
    "        (\"summary-tf-idf\", TfidfVectorizer(max_features=1000), \"Summary\"),\n",
    "        (\"text-tf-idf\", TfidfVectorizer(max_features=1000), \"Text\")\n",
    "    ], remainder=\"passthrough\")),\n",
    "    ('scl', StandardScaler())   \n",
    "])\n",
    "\n",
    "X_train_transformed_scaled = pipeline.fit_transform(X_train)\n",
    "X_test_transformed_scaled = pipeline.transform(X_test)\n",
    "\n",
    "X_train_transformed_scaled.shape"
   ]
  },
  {
   "cell_type": "code",
   "execution_count": 62,
   "metadata": {},
   "outputs": [
    {
     "name": "stdout",
     "output_type": "stream",
     "text": [
      "Epoch 1/5\n",
      "300/300 [==============================] - 3s 10ms/step - loss: 0.8123 - accuracy: 0.0000e+00 - val_loss: 0.7147 - val_accuracy: 2.0000e-04\n",
      "Epoch 2/5\n",
      "300/300 [==============================] - 1s 2ms/step - loss: 0.3156 - accuracy: 2.6667e-04 - val_loss: 0.4860 - val_accuracy: 0.0012\n",
      "Epoch 3/5\n",
      "300/300 [==============================] - 1s 2ms/step - loss: 0.1757 - accuracy: 0.0025 - val_loss: 0.4498 - val_accuracy: 0.0060\n",
      "Epoch 4/5\n",
      "300/300 [==============================] - 1s 2ms/step - loss: 0.1152 - accuracy: 0.0113 - val_loss: 0.4614 - val_accuracy: 0.0206\n",
      "Epoch 5/5\n",
      "300/300 [==============================] - 1s 2ms/step - loss: 0.0814 - accuracy: 0.0245 - val_loss: 0.4786 - val_accuracy: 0.0440\n"
     ]
    }
   ],
   "source": [
    "# Import Tensorflow and Keras\n",
    "import tensorflow as tf\n",
    "import tensorflow.keras \n",
    "from tensorflow.keras.models import Sequential\n",
    "from tensorflow.keras.layers import Dense\n",
    "\n",
    "# Instantiate the model\n",
    "model = Sequential()\n",
    "\n",
    "# Densify by adding hidden layer\n",
    "model.add(Dense(units=10, activation='relu', input_shape=(X_train_transformed_scaled.shape[1],)))\n",
    "model.add(Dense(1, activation='sigmoid'))\n",
    "model.compile(optimizer='adam', loss='binary_crossentropy', metrics=['Accuracy'])\n",
    "results = model.fit(X_train_transformed_scaled, y_train, validation_data=(X_test_transformed_scaled, y_test), epochs=5, batch_size=50)"
   ]
  },
  {
   "cell_type": "code",
   "execution_count": 26,
   "metadata": {},
   "outputs": [
    {
     "data": {
      "text/plain": [
       "{'loss': [1.2222837209701538,\n",
       "  0.3503075838088989,\n",
       "  0.18870316445827484,\n",
       "  0.11777392774820328,\n",
       "  0.08137904107570648],\n",
       " 'accuracy': [0.0, 0.0, 0.0, 0.00033333332976326346, 0.0030666666571050882],\n",
       " 'val_loss': [0.8161005973815918,\n",
       "  0.558581531047821,\n",
       "  0.5017404556274414,\n",
       "  0.5160079598426819,\n",
       "  0.5092464089393616],\n",
       " 'val_accuracy': [0.0, 0.0, 0.0, 0.0007999999797903001, 0.008200000040233135]}"
      ]
     },
     "execution_count": 26,
     "metadata": {},
     "output_type": "execute_result"
    }
   ],
   "source": [
    "# results.history"
   ]
  },
  {
   "cell_type": "code",
   "execution_count": 40,
   "metadata": {},
   "outputs": [],
   "source": [
    "'''\n",
    "Plotting the modell results.\n",
    "Helper funtionction: plot_results(model)\n",
    "       Input: results for model.fit\n",
    "'''\n",
    "import matplotlib.pyplot as plt\n",
    "%matplotlib inline\n",
    "def plot_results(model):\n",
    "    \n",
    "    fig, (ax1,ax2) = plt.subplots(1,2)\n",
    "\n",
    "\n",
    "    ax1.plot(model.epoch, model.history['loss'], label='train')\n",
    "    ax1.plot(model.epoch, model.history['val_loss'], label='val')\n",
    "    ax1.set_title('Model Loss')\n",
    "    \n",
    "    ax1.legend()\n",
    "    \n",
    "    ax2.plot(model.epoch, model.history['accuracy'], label='train')\n",
    "    ax2.plot(model.epoch, model.history['val_accuracy'], label='val')\n",
    "    ax2.set_title('Model Accuacy')\n",
    "    \n",
    "    ax2.legend()"
   ]
  },
  {
   "cell_type": "code",
   "execution_count": 37,
   "metadata": {},
   "outputs": [
    {
     "data": {
      "image/png": "[encoded data removed]",
      "text/plain": [
       "<Figure size 432x288 with 2 Axes>"
      ]
     },
     "metadata": {
      "needs_background": "light"
     },
     "output_type": "display_data"
    }
   ],
   "source": [
    "plot_results(results)"
   ]
  },
  {
   "cell_type": "markdown",
   "metadata": {},
   "source": [
    "### Model Tuning + Feature Engineering"
   ]
  },
  {
   "cell_type": "code",
   "execution_count": 66,
   "metadata": {},
   "outputs": [
    {
     "name": "stdout",
     "output_type": "stream",
     "text": [
      "Epoch 1/5\n",
      "270/270 [==============================] - 1s 2ms/step - loss: 1.4319 - accuracy: 0.0076 - val_loss: 1.3209 - val_accuracy: 0.0000e+00\n",
      "Epoch 2/5\n",
      "270/270 [==============================] - 0s 1ms/step - loss: 0.3269 - accuracy: 0.0000e+00 - val_loss: 0.6203 - val_accuracy: 0.0000e+00\n",
      "Epoch 3/5\n",
      "270/270 [==============================] - 0s 1ms/step - loss: 0.1803 - accuracy: 0.0000e+00 - val_loss: 0.6038 - val_accuracy: 0.0000e+00\n",
      "Epoch 4/5\n",
      "270/270 [==============================] - 0s 1ms/step - loss: 0.1210 - accuracy: 0.0000e+00 - val_loss: 0.5992 - val_accuracy: 0.0000e+00\n",
      "Epoch 5/5\n",
      "270/270 [==============================] - 0s 1ms/step - loss: 0.0873 - accuracy: 0.0000e+00 - val_loss: 0.6082 - val_accuracy: 0.0000e+00\n"
     ]
    },
    {
     "data": {
      "image/png": "[encoded data removed]",
      "text/plain": [
       "<Figure size 432x288 with 2 Axes>"
      ]
     },
     "metadata": {
      "needs_background": "light"
     },
     "output_type": "display_data"
    }
   ],
   "source": [
    "# Train the model with 10% data\n",
    "X_t, X_val, y_t, y_val = train_test_split(X_train, y_train, random_state=42, test_size=0.1)\n",
    "\n",
    "X_t_transformed = pipeline.fit_transform(X_t)\n",
    "X_val_transformed = pipeline.transform(X_val)\n",
    "\n",
    "# Instantiate the model\n",
    "model_t = Sequential()\n",
    "\n",
    "'''\n",
    "    units=10, activation='relu', activation='sigmoid', optimizer='adam', loss='binary_crossentropy', metrics=['Accuracy']\n",
    "    epochs=5, batch_size=50\n",
    "'''\n",
    "\n",
    "# Densify by adding hidden layer\n",
    "model_t.add(Dense(units=10, activation='relu', input_shape=(X_t_transformed.shape[1],)))\n",
    "model_t.add(Dense(1, activation='sigmoid'))\n",
    "model_t.compile(optimizer='adam', loss='binary_crossentropy', metrics=['Accuracy'])\n",
    "results_t = model_t.fit(X_t_transformed, y_t, validation_data=(X_val_transformed, y_val), epochs=5, batch_size=50)\n",
    "plot_results(results_t)"
   ]
  },
  {
   "cell_type": "code",
   "execution_count": 69,
   "metadata": {},
   "outputs": [
    {
     "name": "stdout",
     "output_type": "stream",
     "text": [
      "Epoch 1/5\n",
      "270/270 [==============================] - 1s 4ms/step - loss: 0.4938 - accuracy: 0.0000e+00 - val_loss: 0.4124 - val_accuracy: 0.0000e+00\n",
      "Epoch 2/5\n",
      "270/270 [==============================] - 0s 2ms/step - loss: 0.2157 - accuracy: 2.9630e-04 - val_loss: 0.2918 - val_accuracy: 0.0013\n",
      "Epoch 3/5\n",
      "270/270 [==============================] - 0s 2ms/step - loss: 0.0780 - accuracy: 0.0095 - val_loss: 0.3373 - val_accuracy: 0.0147\n",
      "Epoch 4/5\n",
      "270/270 [==============================] - 0s 2ms/step - loss: 0.0341 - accuracy: 0.0332 - val_loss: 0.3940 - val_accuracy: 0.0547\n",
      "Epoch 5/5\n",
      "270/270 [==============================] - 0s 2ms/step - loss: 0.0203 - accuracy: 0.0679 - val_loss: 0.4511 - val_accuracy: 0.1167\n"
     ]
    },
    {
     "data": {
      "image/png": "[encoded data removed]",
      "text/plain": [
       "<Figure size 432x288 with 2 Axes>"
      ]
     },
     "metadata": {
      "needs_background": "light"
     },
     "output_type": "display_data"
    }
   ],
   "source": [
    "\n",
    "\n",
    "'''\n",
    "    units=10, activation='relu', activation='sigmoid', optimizer='adam', loss='binary_crossentropy', metrics=['Accuracy']\n",
    "    epochs=5, batch_size=50\n",
    "    Deepen the hidden layer with 50 neurons\n",
    "'''\n",
    "\n",
    "# Densify by adding hidden layer\n",
    "model_t = Sequential()\n",
    "model_t.add(Dense(units=10, activation='relu', input_shape=(X_t_transformed.shape[1],)))\n",
    "model_t.add(Dense(units=10, activation='relu'))\n",
    "model_t.add(Dense(1, activation='sigmoid'))\n",
    "model_t.compile(optimizer='adam', loss='binary_crossentropy', metrics=['Accuracy'])\n",
    "results_t = model_t.fit(X_t_transformed, y_t, validation_data=(X_val_transformed, y_val), epochs=5, batch_size=50)\n",
    "plot_results(results_t)"
   ]
  },
  {
   "cell_type": "code",
   "execution_count": 84,
   "metadata": {},
   "outputs": [
    {
     "name": "stdout",
     "output_type": "stream",
     "text": [
      "Epoch 1/5\n",
      "300/300 [==============================] - 3s 12ms/step - loss: 0.0043 - accuracy: 0.1123 - val_loss: 0.9330 - val_accuracy: 0.0758\n",
      "Epoch 2/5\n",
      "300/300 [==============================] - 1s 3ms/step - loss: 0.0041 - accuracy: 0.1129 - val_loss: 1.0229 - val_accuracy: 0.0786\n",
      "Epoch 3/5\n",
      "300/300 [==============================] - ETA: 0s - loss: 0.0032 - accuracy: 0.12 - 1s 2ms/step - loss: 0.0033 - accuracy: 0.1196 - val_loss: 0.9477 - val_accuracy: 0.0808\n",
      "Epoch 4/5\n",
      "300/300 [==============================] - 1s 2ms/step - loss: 0.0032 - accuracy: 0.1242 - val_loss: 0.8411 - val_accuracy: 0.0856\n",
      "Epoch 5/5\n",
      "300/300 [==============================] - 1s 2ms/step - loss: 0.0031 - accuracy: 0.1254 - val_loss: 0.8447 - val_accuracy: 0.0838\n"
     ]
    },
    {
     "data": {
      "image/png": "[encoded data removed]",
      "text/plain": [
       "<Figure size 432x288 with 2 Axes>"
      ]
     },
     "metadata": {
      "needs_background": "light"
     },
     "output_type": "display_data"
    }
   ],
   "source": [
    "\n",
    "'''\n",
    "    units=10, activation='relu', activation='sigmoid', optimizer='adam', loss='binary_crossentropy', metrics=['Accuracy']\n",
    "    epochs=5, batch_size=20\n",
    "    Deepen the hidden layer with 20 neurons\n",
    "'''\n",
    "# Densify by adding hidden layer\n",
    "model_t = Sequential()\n",
    "model_t.add(Dense(units=10, activation='relu', input_shape=(X_t_transformed.shape[1],)))\n",
    "model_t.add(Dense(units=20, activation='relu'))\n",
    "model_t.add(Dense(1, activation='sigmoid'))\n",
    "model_t.compile(optimizer='adam', loss='binary_crossentropy', metrics=['Accuracy'])\n",
    "results = model.fit(X_train_transformed_scaled, y_train, validation_data=(X_test_transformed_scaled, y_test), epochs=5, batch_size=50)\n",
    "plot_results(results_t)\n"
   ]
  },
  {
   "cell_type": "code",
   "execution_count": null,
   "metadata": {},
   "outputs": [],
   "source": [
    "\n",
    "'''\n",
    " - Computational complexity/resource use\n",
    "   Tensorflow model learnt to be computationally expensive. As you increase the depth of the hidden layers it takes more time.\n",
    "   Further processing is need to understand why both training and validation accuracies look the same.\n",
    "   Training the model to decrease the loss is inconclusive at this time. Need additional strategy to build the model.\n",
    "   \n",
    " - Anticipated performance on future datasets (how might the data change over time?)\n",
    "   Depending on teh summary and text, the OneHotEncoded columns could explode and keep the model densly sparse. This will also incease the\n",
    "   computational cost.\n",
    "    \n",
    " - Types of mistakes made by the two kinds of models\n",
    "   RandomForest model should remove some of the text encoding. \n",
    "   Tensorflow model should consider increasiong Epochs, however this is computationally expensive.\n"
   ]
  }
 ],
 "metadata": {
  "kernelspec": {
   "display_name": "Python 3",
   "language": "python",
   "name": "python3"
  },
  "language_info": {
   "codemirror_mode": {
    "name": "ipython",
    "version": 3
   },
   "file_extension": ".py",
   "mimetype": "text/x-python",
   "name": "python",
   "nbconvert_exporter": "python",
   "pygments_lexer": "ipython3",
   "version": "3.8.5"
  }
 },
 "nbformat": 4,
 "nbformat_minor": 4
}
